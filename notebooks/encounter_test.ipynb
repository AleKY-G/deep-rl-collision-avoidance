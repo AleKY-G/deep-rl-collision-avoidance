{
 "cells": [
  {
   "cell_type": "code",
   "execution_count": null,
   "metadata": {},
   "outputs": [],
   "source": [
    "%load_ext autoreload\n",
    "%autoreload 2"
   ]
  },
  {
   "cell_type": "code",
   "execution_count": null,
   "metadata": {},
   "outputs": [],
   "source": [
    "from mdp.encounter import mc_encounter, action_generator\n",
    "from mdp.transition import advance_ac\n",
    "from mdp.action import a_int\n",
    "from mdp.state import state_to_obs, State\n",
    "\n",
    "import numpy as np"
   ]
  },
  {
   "cell_type": "markdown",
   "metadata": {},
   "source": [
    "## Check we get right proportion of NMACs"
   ]
  },
  {
   "cell_type": "code",
   "execution_count": null,
   "metadata": {},
   "outputs": [],
   "source": [
    "num_enc = 10000\n",
    "num_nmac = 0\n",
    "NMAC_R = 500\n",
    "\n",
    "for _ in range(num_enc):\n",
    "    tca = 50\n",
    "    st, int_act_gen = mc_encounter(tca)\n",
    "    ac0, ac1, prev_a = st\n",
    "\n",
    "    for _ in range(tca):\n",
    "        ac0 = advance_ac(ac0, a_int('NOOP'))\n",
    "        ac1 = advance_ac(ac1, next(int_act_gen))\n",
    "        \n",
    "    obs = state_to_obs(State(ac0, ac1, a_int('NOOP')))\n",
    "    \n",
    "    if obs.r <= NMAC_R:\n",
    "        num_nmac += 1\n",
    "\n",
    "num_nmac / num_enc"
   ]
  },
  {
   "cell_type": "code",
   "execution_count": null,
   "metadata": {},
   "outputs": [],
   "source": [
    "avg_maneuver_len = 15\n",
    "NUM_A = 3\n",
    "\n",
    "p_self = (avg_maneuver_len - 1) / avg_maneuver_len\n",
    "p_trans = (1 - p_self) / (NUM_A - 1)\n",
    "\n",
    "p_t = ((p_self - p_trans) * np.identity(NUM_A)\n",
    "    + p_trans * np.ones((NUM_A, NUM_A)))"
   ]
  },
  {
   "cell_type": "code",
   "execution_count": null,
   "metadata": {},
   "outputs": [],
   "source": [
    "acts = [10, 10, 12, 123]\n",
    "g = action_generator(p_t, acts)"
   ]
  }
 ],
 "metadata": {
  "kernelspec": {
   "display_name": "Python 3",
   "language": "python",
   "name": "python3"
  },
  "language_info": {
   "codemirror_mode": {
    "name": "ipython",
    "version": 3
   },
   "file_extension": ".py",
   "mimetype": "text/x-python",
   "name": "python",
   "nbconvert_exporter": "python",
   "pygments_lexer": "ipython3",
   "version": "3.7.4"
  }
 },
 "nbformat": 4,
 "nbformat_minor": 2
}
