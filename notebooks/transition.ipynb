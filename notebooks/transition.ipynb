{
 "cells": [
  {
   "cell_type": "code",
   "execution_count": 1,
   "metadata": {},
   "outputs": [],
   "source": [
    "%load_ext autoreload\n",
    "%autoreload 2"
   ]
  },
  {
   "cell_type": "markdown",
   "metadata": {},
   "source": [
    "## Transition Module"
   ]
  },
  {
   "cell_type": "code",
   "execution_count": 3,
   "metadata": {},
   "outputs": [],
   "source": [
    "from mdp.action import a_rate\n",
    "from mdp.state import AC\n",
    "from mdp.util import advance_pos\n",
    "from math import sin, cos"
   ]
  },
  {
   "cell_type": "code",
   "execution_count": 2,
   "metadata": {},
   "outputs": [],
   "source": [
    "def advance_ac(ac, a):\n",
    "    # Change angle due to action\n",
    "    d_phi = a_rate(a)\n",
    "    phi = ac.phi + d_phi\n",
    "    \n",
    "    # Advance position\n",
    "    speed_x, speed_y = (ac.speed * cos(phi), \n",
    "                        ac.speed * sin(phi))\n",
    "    x, y = ac.x + speed_x, ac.y + speed_y\n",
    "    \n",
    "    # Return new AC state\n",
    "    return AC(x, y, phi, ac.speed, d_phi)"
   ]
  },
  {
   "cell_type": "code",
   "execution_count": null,
   "metadata": {},
   "outputs": [],
   "source": []
  }
 ],
 "metadata": {
  "kernelspec": {
   "display_name": "Python 3",
   "language": "python",
   "name": "python3"
  },
  "language_info": {
   "codemirror_mode": {
    "name": "ipython",
    "version": 3
   },
   "file_extension": ".py",
   "mimetype": "text/x-python",
   "name": "python",
   "nbconvert_exporter": "python",
   "pygments_lexer": "ipython3",
   "version": "3.7.4"
  }
 },
 "nbformat": 4,
 "nbformat_minor": 2
}
