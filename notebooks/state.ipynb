{
 "cells": [
  {
   "cell_type": "code",
   "execution_count": 1,
   "metadata": {},
   "outputs": [],
   "source": [
    "%load_ext autoreload\n",
    "%autoreload 2"
   ]
  },
  {
   "cell_type": "markdown",
   "metadata": {},
   "source": [
    "### State Module"
   ]
  },
  {
   "cell_type": "code",
   "execution_count": 1,
   "metadata": {},
   "outputs": [],
   "source": [
    "from collections import namedtuple\n",
    "from math import atan2\n",
    "\n",
    "from gym import spaces\n",
    "import numpy as np\n",
    "\n",
    "from mdp.util import norm2, angle_parts\n",
    "from mdp.action import TURN_LIM, NUM_A\n",
    "\n",
    "\n",
    "ac_vars = ['x', 'y', 'phi', 'speed', 'd_phi']\n",
    "obs_vars = ['r', 'theta_x', 'theta_y', \n",
    "            'psi_x', 'psi_y', 'sp0', 'sp1',\n",
    "            'd_phi0', 'd_phi1', 'prev_a']\n",
    "state_vars = ['own', 'int', 'prev_a']\n",
    "\n",
    "AC = namedtuple('AC', ac_vars)\n",
    "Observation = namedtuple('Observation', obs_vars)\n",
    "State = namedtuple('State', state_vars)\n",
    "\n",
    "# Observation variable value interval\n",
    "obs_var_interval = {\n",
    "    'r': (0, 25000),\n",
    "    'theta_x': (-1, 1),\n",
    "    'theta_y': (-1, 1),\n",
    "    'psi_x': (-1, 1),\n",
    "    'psi_y': (-1, 1),\n",
    "    'sp0': (200, 225),\n",
    "    'sp1': (200, 225),\n",
    "    'd_phi0': (-TURN_LIM, TURN_LIM),\n",
    "    'd_phi1': (-TURN_LIM, TURN_LIM),\n",
    "    'prev_a': (0, NUM_A - 1)\n",
    "}\n",
    "\n",
    "# Observation variable range\n",
    "obs_var_ran = {k: v[1] - v[0] \n",
    "               for k,v in obs_var_interval.items()}\n",
    "\n",
    "# Gym observation space definition\n",
    "low_vals, high_vals = zip(*[obs_var_interval[k] for k in obs_vars])\n",
    "\n",
    "gym_obs_space = spaces.Box(\n",
    "    low=np.array(low_vals),\n",
    "    high=np.array(high_vals),\n",
    "    dtype=np.float32\n",
    ")\n",
    "\n",
    "\n",
    "def get_obs_space():\n",
    "    return gym_obs_space\n",
    "\n",
    "\n",
    "def state_to_obs(st):\n",
    "    # Extract state components\n",
    "    ac0, ac1, prev_a = st\n",
    "\n",
    "    # Calculate relative position\n",
    "    x_rel, y_rel = ac1.x - ac0.x, ac1.y - ac0.y\n",
    "\n",
    "    # Calculate relative position in polar coords\n",
    "    r = norm2(x_rel, y_rel)\n",
    "\n",
    "    theta = atan2(y_rel, x_rel)\n",
    "    theta_x, theta_y = angle_parts(theta)\n",
    "\n",
    "    psi = ac1.phi - ac0.phi\n",
    "    psi_x, psi_y = angle_parts(psi)\n",
    "\n",
    "    return Observation(r, theta_x, theta_y, psi_x, psi_y, \n",
    "        ac0.speed, ac1.speed, ac0.d_phi, ac1.d_phi, \n",
    "        prev_a)\n",
    "\n",
    "\n",
    "def process_obs(obs):\n",
    "    new_obs = {}\n",
    "\n",
    "    pass\n"
   ]
  },
  {
   "cell_type": "code",
   "execution_count": null,
   "metadata": {},
   "outputs": [],
   "source": []
  }
 ],
 "metadata": {
  "kernelspec": {
   "display_name": "Python 3",
   "language": "python",
   "name": "python3"
  },
  "language_info": {
   "codemirror_mode": {
    "name": "ipython",
    "version": 3
   },
   "file_extension": ".py",
   "mimetype": "text/x-python",
   "name": "python",
   "nbconvert_exporter": "python",
   "pygments_lexer": "ipython3",
   "version": "3.7.4"
  }
 },
 "nbformat": 4,
 "nbformat_minor": 2
}
