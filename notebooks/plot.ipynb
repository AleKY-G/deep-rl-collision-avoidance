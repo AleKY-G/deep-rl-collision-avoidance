{
 "cells": [
  {
   "cell_type": "code",
   "execution_count": null,
   "metadata": {},
   "outputs": [],
   "source": [
    "%load_ext autoreload\n",
    "%autoreload 2"
   ]
  },
  {
   "cell_type": "code",
   "execution_count": null,
   "metadata": {
    "scrolled": true
   },
   "outputs": [],
   "source": [
    "from math import pi\n",
    "from pathlib import Path\n",
    "\n",
    "import numpy as np\n",
    "from matplotlib import pyplot as plt\n",
    "\n",
    "from src.agent.train import load\n",
    "from src.mdp.action import a_int\n",
    "from src.mdp.state import (AC, State, Observation, \n",
    "    state_to_obs, process_obs)"
   ]
  },
  {
   "cell_type": "code",
   "execution_count": null,
   "metadata": {},
   "outputs": [],
   "source": [
    "# Define interval we'd like to plot\n",
    "x_interval = (-5000, 15000)\n",
    "y_interval = (-10000, 10000)\n",
    "phi1 = pi"
   ]
  },
  {
   "cell_type": "code",
   "execution_count": null,
   "metadata": {},
   "outputs": [],
   "source": [
    "# Number of samples per dimension\n",
    "x_num, y_num = 100, 100"
   ]
  },
  {
   "cell_type": "code",
   "execution_count": null,
   "metadata": {},
   "outputs": [],
   "source": [
    "# Evaluate the policy on the sample points\n",
    "a = np.empty((x_num, y_num), dtype=np.uint8)\n",
    "\n",
    "# Load policy\n",
    "# policy = "
   ]
  },
  {
   "cell_type": "code",
   "execution_count": null,
   "metadata": {},
   "outputs": [],
   "source": [
    "# Create color plot\n"
   ]
  },
  {
   "cell_type": "code",
   "execution_count": null,
   "metadata": {},
   "outputs": [],
   "source": [
    "model_path = Path('..') / 'models' / 'model'"
   ]
  },
  {
   "cell_type": "code",
   "execution_count": null,
   "metadata": {},
   "outputs": [],
   "source": [
    "model = load('model')"
   ]
  },
  {
   "cell_type": "code",
   "execution_count": null,
   "metadata": {},
   "outputs": [],
   "source": [
    "def dummy_obs(x, y, phi):\n",
    "    # Create dummy observation from x,y coords\n",
    "    x0, y0, phi0, sp0, d_phi0 = 0, 0, 0, 200, 0\n",
    "    x1, y1, phi1, sp1, d_phi1 = x, y, phi, 200, 0\n",
    "    prev_a = a_int('NOOP')\n",
    "\n",
    "    ac0 = AC()\n",
    "    ac1 = AC()\n",
    "    st = State(ac0, ac1, prev_a)\n",
    "    obs = state_to_obs(st)\n",
    "\n",
    "    return process_obs(obs)"
   ]
  },
  {
   "cell_type": "code",
   "execution_count": null,
   "metadata": {},
   "outputs": [],
   "source": [
    "x_interval = (-5000, 15000)\n",
    "np.linspace(*x_interval, 10)"
   ]
  },
  {
   "cell_type": "code",
   "execution_count": null,
   "metadata": {},
   "outputs": [],
   "source": [
    "np.linspace()"
   ]
  }
 ],
 "metadata": {
  "kernelspec": {
   "display_name": "Python 3",
   "language": "python",
   "name": "python3"
  },
  "language_info": {
   "codemirror_mode": {
    "name": "ipython",
    "version": 3
   },
   "file_extension": ".py",
   "mimetype": "text/x-python",
   "name": "python",
   "nbconvert_exporter": "python",
   "pygments_lexer": "ipython3",
   "version": "3.7.4"
  }
 },
 "nbformat": 4,
 "nbformat_minor": 2
}
